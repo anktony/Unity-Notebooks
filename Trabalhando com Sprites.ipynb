{
 "metadata": {
  "kernelspec": {
   "display_name": ".NET (C#)",
   "language": "C#",
   "name": ".net-csharp"
  },
  "language_info": {
   "name": "C#"
  }
 },
 "cells": [
  {
   "cell_type": "markdown",
   "source": [
    "---------------------------------------------------------------------\r\n",
    "# Manipulação de Sprites Via Código"
   ],
   "metadata": {}
  },
  {
   "cell_type": "code",
   "execution_count": null,
   "source": [
    "    void Update(){\r\n",
    "        transform.Translate(new Vector3(0.1f,0,0));\r\n",
    "        transform.Rotate(new Vector3(0,0,0.5f));\r\n",
    "        transform.localScale += new Vector3(0.1f, 0.1f, 0);\r\n",
    "    }"
   ],
   "outputs": [],
   "metadata": {
    "dotnet_interactive": {
     "language": "csharp"
    }
   }
  },
  {
   "cell_type": "markdown",
   "source": [
    "1. .Translate() --> Movimento de translação: se move na área ao redor (deve-se modificar os <strong>eixos x e y</strong>).<br/>   \r\n",
    "2. .Rotate() --> Movimento de rotação: se move ao redor o próprio eixo (deve-se modificar o <strong>eixo z</strong>).<br/>\r\n",
    "3. .localScale --> Expansão das dimensões: Causa a impressão de aproximação (deve-se modificar os <strong>eixos x e y</strong>).<br/>    "
   ],
   "metadata": {}
  },
  {
   "cell_type": "markdown",
   "source": [
    "# Criação de sprites simples sensíveis à luz\r\n",
    "### Habilitar luz em objetos 2d;\r\n",
    "\r\n",
    " 1. criar um material (botão direito na aba project);  \r\n",
    " 2. Fazer com que o material seja de um tipo que a luz seja aceita:   \r\n",
    "  +Na aba **shader** do material, na opção **sprites** mudar de **default** para **difuse**;  \r\n",
    "  +Selecionar a sprite, e arrastar o novo material criado para cima do material atual;  \r\n",
    "  +Checar posição da luz: o ideal é que a luz esteja à frente do material (**eixo z**);\r\n",
    "\r\n",
    " "
   ],
   "metadata": {}
  },
  {
   "cell_type": "markdown",
   "source": [
    "# Layers\r\n",
    " ### Criar layer para objeto 2d: \r\n",
    " 1. Selecionar objeto criado;\r\n",
    " 2. No painel layer, clicar no dropdown e selecionar **Add Layer**;\r\n",
    " 3. Nomear camadas: (obj1, obj2, obj3, etc.);\r\n",
    " 4. No dropdown **Culling Mask** do objeto referente à luz, é possível selecionar com quais layers ela irá ou não interagir;\r\n",
    " 5. **Cópias do mesmo objeto pode estar usando layers diferentes**;"
   ],
   "metadata": {}
  },
  {
   "cell_type": "markdown",
   "source": [
    "# Criação de Prefabs\r\n",
    "\r\n",
    "Criação de varias instâncias de um game object: balas, personagens, etc.\r\n",
    "\r\n",
    "### Método 1:   \r\n",
    "1. Arraste o game object que será um prefab da aba **Hierarchy** para dentro da aba **Project**;\r\n",
    "2. **Ao clicar em *Apply* na seção *Prefab* todas as alterações feitas em um prefab serão transferidas para os outros, inclusive para o prefab em projects;**\r\n",
    "\r\n",
    "### Método 2:\r\n",
    "1. aba *projects*: right click > create > prefabs;\r\n",
    "2. Será criado um prefab vazio e sem nome.\r\n",
    "3. Para adicionar uma identidade, arraste alguma sprite existente na aba **hierarchy** para o objeto vazio na aba **Project**."
   ],
   "metadata": {}
  },
  {
   "cell_type": "markdown",
   "source": [
    "----------------------------------------------------------------------"
   ],
   "metadata": {}
  }
 ],
 "nbformat": 4,
 "nbformat_minor": 2
}