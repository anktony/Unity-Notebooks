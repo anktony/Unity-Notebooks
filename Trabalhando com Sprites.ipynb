{
 "metadata": {
  "kernelspec": {
   "display_name": ".NET (C#)",
   "language": "C#",
   "name": ".net-csharp"
  },
  "language_info": {
   "name": "C#"
  }
 },
 "cells": [
  {
   "cell_type": "markdown",
   "source": [
    "---------------------------------------------------------------------\r\n",
    "# Manipulação de Sprites Via Código"
   ],
   "metadata": {}
  },
  {
   "cell_type": "code",
   "execution_count": null,
   "source": [
    "    void Update(){\r\n",
    "        transform.Translate(new Vector3(0.1f,0,0));\r\n",
    "        transform.Rotate(new Vector3(0,0,0.5f));\r\n",
    "        transform.localScale += new Vector3(0.1f, 0.1f, 0);\r\n",
    "    }"
   ],
   "outputs": [],
   "metadata": {
    "dotnet_interactive": {
     "language": "csharp"
    }
   }
  },
  {
   "cell_type": "markdown",
   "source": [
    "1. .Translate() --> Movimento de translação: se move na área ao redor (deve-se modificar os <strong>eixos x e y</strong>).<br/>   \n",
    "2. .Rotate() --> Movimento de rotação: se move ao redor o próprio eixo (deve-se modificar o <strong>eixo z</strong>).<br/>\n",
    "3. .localScale --> Expansão das dimensões, dando a impressão de aproximação (deve-se modificar os <strong>eixos x e y</strong>).<br/>    "
   ],
   "metadata": {}
  },
  {
   "cell_type": "markdown",
   "source": [
    "# Criação de sprites simples sensíveis à luz\r\n",
    "### Habilitar luz em objetos 2d;\r\n",
    "\r\n",
    " 1. criar um material (botão direito na aba project);  \r\n",
    " 2. Fazer com que o material seja de um tipo que a luz seja aceita:   \r\n",
    "  +Na aba **shader** do material, na opção **sprites** mudar de **default** para **difuse**;  \r\n",
    "  +Selecionar a sprite, e arrastar o novo material criado para cima do material atual;  \r\n",
    "  +Checar posição da luz: o ideal é que a luz esteja à frente do material (**eixo z**);\r\n",
    "\r\n",
    " "
   ],
   "metadata": {}
  },
  {
   "cell_type": "markdown",
   "source": [
    "# Layers\n",
    " ### Criar layer para objeto 2d: \n",
    " 1. Selecionar objeto criado;\n",
    " 2. Ir no painel layer;\n",
    " 3. Clicar no dropdown e selecionar **Add Layer**;\n",
    " 4. Nomear camadas: (obj1, obj2, obj3, etc.);\n",
    " 5. No objeto da luz no dropdown **Culling Mask**, eu posso selecionar com quais layers ela irá ou não interagir;\n",
    " 6. **Cópias do mesmo objeto pode estar usando layers diferentes**;"
   ],
   "metadata": {}
  },
  {
   "cell_type": "markdown",
   "source": [
    "# Criação de Prefabs\n",
    "\n",
    "Criação de varias instâncias de um game object: balas, personagens.\n",
    "\n",
    "### Criar prefab - Forma 1:   \n",
    "1. Arrastar game object que será um prefab da aba **Hierarchy**para dentro da aba **Project**;\n",
    "2. **Ao clicar em *Apply* na seção *Prefab* todas as alterações feitas em um prefab serão transferidas para os outros, inclusive para o prefab em projects;**\n",
    "\n",
    "### Criar Prefab - Forma 2:\n",
    "1. Botão direito na aba *projects*: create > prefabs;\n",
    "2. Será criado um prefab vazio e sem nome.\n",
    "3. Para adicionar uma identidade, arrastar alguma sprite existente da aba **hierarchy** para o objeto vazio na aba **Project**."
   ],
   "metadata": {}
  },
  {
   "cell_type": "markdown",
   "source": [
    "----------------------------------------------------------------------"
   ],
   "metadata": {}
  }
 ],
 "nbformat": 4,
 "nbformat_minor": 2
}