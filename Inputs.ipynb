{
 "cells": [
  {
   "cell_type": "markdown",
   "source": [
    "-----------------------------------\r\n",
    "# inputs\r\n",
    "\r\n",
    "## Input de Teclado 1 - Criando Estruturas Condicionais:  "
   ],
   "metadata": {}
  },
  {
   "cell_type": "code",
   "execution_count": null,
   "source": [
    "if(Input.GetKeyUp(KeyCode.RightArrow)){/*...*/}\r\n",
    "if(Input.GetKeyDown(KeyCode.RightArrow)){/*...*/}\r\n",
    "if(Input.GetKey(KeyCode.RightArrow)){/*...*/}\r\n"
   ],
   "outputs": [],
   "metadata": {
    "dotnet_interactive": {
     "language": "csharp"
    }
   }
  },
  {
   "cell_type": "markdown",
   "source": [
    "1. GetKeyUp --> Ativa quando a a tecla é solta;\r\n",
    "2. GetKeyDown --> Ativa uma vez quando a tecla é pressionada;\r\n",
    "3. GetKey --> Ativa continuamente enquato a tecla estiver pressionada; "
   ],
   "metadata": {}
  },
  {
   "cell_type": "markdown",
   "source": [
    "## Input de Teclado 2 - Axes\r\n",
    "* **Edit > Project Settings > Input**"
   ],
   "metadata": {}
  },
  {
   "cell_type": "code",
   "execution_count": null,
   "source": [
    "//exemplo//\r\n",
    "float H = Input.GetAxis(\"Horizontal\");\r\n",
    "float V = Input.GetAxis(\"Vertical\");\r\n",
    "transform.Translate(new Vector3(H * Time.deltaTime, V * Time.deltaTime, 0));"
   ],
   "outputs": [],
   "metadata": {
    "dotnet_interactive": {
     "language": "csharp"
    }
   }
  },
  {
   "cell_type": "markdown",
   "source": [
    "## Input de Mouse - Axes\r\n",
    "* **Edit > Project Settings > Input**\r\n",
    "\r\n",
    "---\r\n"
   ],
   "metadata": {}
  },
  {
   "cell_type": "markdown",
   "source": [
    "## Input de Joystick\r\n",
    "\r\n",
    "---"
   ],
   "metadata": {}
  }
 ],
 "metadata": {
  "orig_nbformat": 4,
  "language_info": {
   "file_extension": ".cs",
   "mimetype": "text/x-csharp",
   "name": "C#",
   "pygments_lexer": "csharp",
   "version": "9.0"
  },
  "kernelspec": {
   "display_name": ".NET (C#)",
   "language": "C#",
   "name": ".net-csharp"
  }
 },
 "nbformat": 4,
 "nbformat_minor": 2
}