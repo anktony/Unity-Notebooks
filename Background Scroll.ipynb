{
 "cells": [
  {
   "cell_type": "markdown",
   "source": [
    "-------------------------------\r\n",
    "# Background Scroll 2D\r\n",
    "\r\n",
    "## Scroll Horizontal Simples\r\n",
    "1. criar game object **3D** que ocupe toda a câmera;\r\n",
    "2. Preparando a textura: **selecionar a sprite > texture type = default> wrap mode = Repeat > apply**;\r\n",
    "3. Alicando o material: **create > material > shader > (escolher tipo adequado) >arrastar textura criada previamente até o campo _none(Texture)_**;\r\n",
    "4. para mover o background, deve-se modificar o _Offset_ no eixo _x_;  \r\n",
    "5. Para isto, deve-se adicionar o arquivo de código ao objeto(quad no exemplo);\r\n",
    "6. E por fim, arrastar o objeto quad para a variável quad no painel que mostra o script.\r\n"
   ],
   "metadata": {}
  },
  {
   "cell_type": "markdown",
   "source": [
    "## Manipulando o Scroll Horizontal em Código"
   ],
   "metadata": {}
  },
  {
   "cell_type": "code",
   "execution_count": null,
   "source": [
    "public class variaveis: Monobehaviour{\r\n",
    "    public float vel = 0.1f;\r\n",
    "    public Renderer quad;\r\n",
    "\r\n",
    "    void start(){}\r\n",
    "\r\n",
    "    void Update(){\r\n",
    "        Vector2 offset = new Vector2(vel * Time.deltaTime, 0); \r\n",
    "        quad.material.mainTextureOffset += offset;\r\n",
    "    }\r\n",
    "}"
   ],
   "outputs": [],
   "metadata": {
    "dotnet_interactive": {
     "language": "csharp"
    }
   }
  },
  {
   "cell_type": "markdown",
   "source": [
    "1. Renderer --> tipo de variavel mesh renderer : conjunto de propriedades responsáveis pela renderização dos objetos.\r\n",
    "2. Time.deltaTime --> usado para garantir que a velocidade de deslocamento dos objetos seja similar em qualquer potência de máquina.\r\n",
    "3. .material --> idica que está manipulando o \"material\" de quad;\r\n",
    "4. .mainTextureOffset --> indique que está manipulando os offsets da textura principal do material."
   ],
   "metadata": {}
  },
  {
   "cell_type": "markdown",
   "source": [
    "# Paralax Scroll horizontal\r\n",
    "* Scroll que dá impressão de profundidade;\r\n",
    "* Há mais de um objeto se movimentando, com velocidade dependendo da proximidade da tela.\r\n",
    "\r\n",
    "##Implementando o Paralax Scroll\r\n",
    "1. Deve se criar os diversos \"planos\" que deverão compor o cenário seguindo os métodos do background simples;\r\n",
    "2. Na visualização da scene, aternar a visualização de 2D para 3D para ajustar a profundidade de cada plano;\r\n",
    "3. Efetuar ajustes adicionais referentes à altura, cores, transparencia e sobreposição dos planos;\r\n",
    "4. Por fim, deve-se configurar a movimentação dos planos, manipulando a variável responsável pela velocidade de deslocamento dos mesmos.\r\n"
   ],
   "metadata": {}
  },
  {
   "cell_type": "markdown",
   "source": [
    "# Anotações\r\n",
    "1. Não é possível aplicar texturas diretamente no objeto 3D . É preciso criar um material, adicionar a sprite (textura), e só então jogá-lo no game object.\r\n",
    "2. Existem **outras maneiras de implementar um background**\r\n",
    "\r\n",
    "----------------------------------------------------------------"
   ],
   "metadata": {}
  }
 ],
 "metadata": {
  "orig_nbformat": 4,
  "language_info": {
   "file_extension": ".cs",
   "mimetype": "text/x-csharp",
   "name": "C#",
   "pygments_lexer": "csharp",
   "version": "9.0"
  },
  "kernelspec": {
   "display_name": ".NET (C#)",
   "language": "C#",
   "name": ".net-csharp"
  }
 },
 "nbformat": 4,
 "nbformat_minor": 2
}