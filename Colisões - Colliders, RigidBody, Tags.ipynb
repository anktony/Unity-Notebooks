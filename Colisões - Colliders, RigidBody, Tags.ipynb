{
 "cells": [
  {
   "cell_type": "markdown",
   "source": [
    "----------------------------------\r\n",
    "# Colisões\r\n",
    "\r\n",
    "## Colliders\r\n",
    "* **Add Component > Physics2D > *Selecionar Colisor*;**\r\n",
    "1. Colisores servem para detectar o contato entre Objetos."
   ],
   "metadata": {}
  },
  {
   "cell_type": "markdown",
   "source": [
    "## RigidBody\r\n",
    "1. Atribui propriedades físicas ao material:\r\n",
    "* influência gravidade(automático);\r\n",
    "* Material;\r\n",
    "* Gravity Scale;\r\n",
    "* Massa;\r\n",
    "* Tipo do corpo: Estático(Imóveis) e Dinâmicos(móveis);\r\n",
    "* Linear Drag: força oposta à da gravidade;\r\n",
    "* Restringe o deslocamento nos eixos X, Y e/ou Z;\r\n",
    "2. Quanto maior a massa do objeto, maior sera a força necessária para movê-lo;"
   ],
   "metadata": {}
  },
  {
   "cell_type": "code",
   "execution_count": null,
   "source": [
    "//Exemplo//\r\n",
    "public class AplicF : MonoBehaviour{\r\n",
    "    \r\n",
    "    public float forca = 2.5f;\r\n",
    "    public Rigidbody2D bola;\r\n",
    "    \r\n",
    "    void Start(){}\r\n",
    "    void Update(){\r\n",
    "        if(input.GetKeyDown(KeyCode.Space)){\r\n",
    "            bola.AddForce(new Vector2(0, forca * Time.deltaTime), ForceMode2D.Impulse)\r\n",
    "        }\r\n",
    "    }\r\n",
    "}\r\n"
   ],
   "outputs": [],
   "metadata": {
    "dotnet_interactive": {
     "language": "csharp"
    }
   }
  },
  {
   "cell_type": "markdown",
   "source": [
    "1. Rigidbody2D --> tipo de variavel de rigidbody 2d;\r\n",
    "2. AddForce(param1, param2): método que adiciona alguma força sobre o objeto;\r\n",
    "   * param1 --> Vector2/3 que indica o valor da foça, em cada eixo correspondente;\r\n",
    "   * param2 --> Tipo de força que será usada;\r\n",
    "3. Forcemode2D.Impulse --> tipo da força que será usada.\r\n",
    "**É necessário arrastar o esse arquivo de código para o objeto correspondente**\r\n",
    "**É necessario arrastar a sprite correspondente a variavel ridigbody2D par o campo do script**"
   ],
   "metadata": {}
  },
  {
   "cell_type": "markdown",
   "source": [
    "----------------------------------------------------------\r\n",
    "## Tags\r\n",
    "* Com a sprite selecionada: **Aba Inspector > Tag dropdown > Add Tag**; "
   ],
   "metadata": {}
  },
  {
   "cell_type": "code",
   "execution_count": null,
   "source": [
    "//Exemplo\r\n",
    "void Update(){\r\n",
    "    if(this.gameObject.CompareTag(\"bola\")){...}\r\n",
    "}"
   ],
   "outputs": [],
   "metadata": {
    "dotnet_interactive": {
     "language": "csharp"
    }
   }
  },
  {
   "cell_type": "markdown",
   "source": [
    "1. this.gameObject --> pega as propriedades do objeto atual.\r\n",
    "2. .CompareTag(\"\") --> compara a tag do objeto(nesse caso, this representa o objeto atual) com o parâmetro passado."
   ],
   "metadata": {}
  },
  {
   "cell_type": "code",
   "execution_count": null,
   "source": [
    "void OnCollisionEnter2D(Collision2D outro){\r\n",
    "    if(outro.gameObject.CompareTag(\"madeira\")){\r\n",
    "        Destroy(outro.gameObject);\r\n",
    "    }\r\n",
    "}\r\n",
    "\r\n",
    "void OnCollisionExit2D(Collision2D outro){/*...*/}"
   ],
   "outputs": [],
   "metadata": {
    "dotnet_interactive": {
     "language": "csharp"
    }
   }
  },
  {
   "cell_type": "markdown",
   "source": [
    "1. OnCollisionEnter2D(){} --> Executa quando os objetos entram em contato;\r\n",
    "2. Collision2D --> tipo de collision2d;\r\n",
    "3. outro -- >  var  collision2d criada para representar todos os outros objetos além do atual;\r\n",
    "4. Destroy() --> destrói o objeto passado como parâmetro;\r\n",
    "5. OnCollisionExit2D(){} --> Executa quando os objetos deixam de se tocar."
   ],
   "metadata": {}
  }
 ],
 "metadata": {
  "orig_nbformat": 4,
  "language_info": {
   "file_extension": ".cs",
   "mimetype": "text/x-csharp",
   "name": "C#",
   "pygments_lexer": "csharp",
   "version": "9.0"
  },
  "kernelspec": {
   "display_name": ".NET (C#)",
   "language": "C#",
   "name": ".net-csharp"
  }
 },
 "nbformat": 4,
 "nbformat_minor": 2
}